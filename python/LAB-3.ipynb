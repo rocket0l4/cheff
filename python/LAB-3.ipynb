{
 "cells": [
  {
   "cell_type": "markdown",
   "id": "6c921817",
   "metadata": {},
   "source": [
    "# AIM :- Write a Program to Construct String      Using A*"
   ]
  },
  {
   "cell_type": "markdown",
   "id": "6d048705",
   "metadata": {},
   "source": [
    " # INPUT        "
   ]
  },
  {
   "cell_type": "code",
   "execution_count": 4,
   "id": "7089215a",
   "metadata": {},
   "outputs": [
    {
     "name": "stdout",
     "output_type": "stream",
     "text": [
      "AMAN SINGH\n",
      "[(None, ''), ('A', 'A'), ('M', 'AM'), ('A', 'AMA'), ('N', 'AMAN'), (' ', 'AMAN '), ('S', 'AMAN S'), ('I', 'AMAN SI'), ('N', 'AMAN SIN'), ('G', 'AMAN SING'), ('H', 'AMAN SINGH')]\n"
     ]
    }
   ],
   "source": [
    "from simpleai.search import astar, SearchProblem\n",
    "goal = 'AMAN SINGH'\n",
    "\n",
    "class HelloProblem(SearchProblem):\n",
    "    def actions(self,state):\n",
    "        if(len(state)<len(goal)):\n",
    "            return(list('ABCDEFGHIJKLMNOPQRSTUVWXYZ '))\n",
    "        else:\n",
    "            return[]\n",
    "        \n",
    "    def result(self,state,action):\n",
    "        return state+action\n",
    "    \n",
    "    def is_goal(self,state):\n",
    "        return state == goal\n",
    "    \n",
    "    def heuristic(self,state):\n",
    "        wrong = sum([1 if state[i] != goal[i] else 0\n",
    "                    for i in range(len(state))])\n",
    "        missing = len(goal)- len(state)\n",
    "        return wrong + missing\n",
    "    \n",
    "problem = HelloProblem(initial_state = '')\n",
    "result = astar(problem)\n",
    "print(result.state)\n",
    "print(result.path())"
   ]
  },
  {
   "cell_type": "markdown",
   "id": "eedc5ece",
   "metadata": {},
   "source": [
    "# OUTPUT"
   ]
  }
 ],
 "metadata": {
  "kernelspec": {
   "display_name": "Python 3 (ipykernel)",
   "language": "python",
   "name": "python3"
  },
  "language_info": {
   "codemirror_mode": {
    "name": "ipython",
    "version": 3
   },
   "file_extension": ".py",
   "mimetype": "text/x-python",
   "name": "python",
   "nbconvert_exporter": "python",
   "pygments_lexer": "ipython3",
   "version": "3.10.8"
  }
 },
 "nbformat": 4,
 "nbformat_minor": 5
}
